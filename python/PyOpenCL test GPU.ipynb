{
 "cells": [
  {
   "cell_type": "code",
   "execution_count": 43,
   "metadata": {},
   "outputs": [],
   "source": [
    "import pyopencl as cl\n",
    "import time\n",
    "import numpy as np\n",
    "\n",
    "values = 1000000\n",
    "\n",
    "# s_t = time.time()\n",
    "def main_gpu() :\n",
    "    cntxt = cl.create_some_context()\n",
    "    queue = cl.CommandQueue(cntxt)\n",
    "\n",
    "    n1 = np.array(range(values), dtype = np.int32)\n",
    "    n2 = np.array(range(values), dtype = np.int32)\n",
    "    out = np.empty(n1.shape, dtype = np.int32)\n",
    "\n",
    "    n1_buffer = cl.Buffer(cntxt, cl.mem_flags.READ_ONLY | cl.mem_flags.COPY_HOST_PTR,hostbuf = n1)\n",
    "    n2_buffer = cl.Buffer(cntxt, cl.mem_flags.READ_ONLY | cl.mem_flags.COPY_HOST_PTR,hostbuf = n2)\n",
    "\n",
    "    out_buf = cl.Buffer(cntxt, cl.mem_flags.WRITE_ONLY, out.nbytes)\n",
    "\n",
    "    code = \"\"\"\n",
    "    __kernel void frst_prog(__global int* num1, __global int* num2, __global int* out)\n",
    "    {\n",
    "        int i = get_global_id(0);\n",
    "        out[i] = num1[i]*num1[i] + num2[i]*num2[i];\n",
    "    }\n",
    "    \"\"\"\n",
    "\n",
    "    bld = cl.Program(cntxt, code).build()\n",
    "    launch = bld.frst_prog(queue,n1.shape, None,n1_buffer,n2_buffer,out_buf)\n",
    "    launch.wait()\n",
    "\n",
    "    cl.enqueue_copy(queue, out, out_buf)\n",
    "# print(n1)\n",
    "# print(n2)\n",
    "# print(out)\n",
    "\n",
    "# t = round((time.time() - s_t) * 1000)\n",
    "# print(\"Time Taken : \", t, \" ms\")"
   ]
  },
  {
   "cell_type": "code",
   "execution_count": 44,
   "metadata": {},
   "outputs": [],
   "source": [
    "def main_cpu() :\n",
    "    n1 = np.array(range(values), dtype = np.int32)\n",
    "    n2 = np.array(range(values), dtype = np.int32)\n",
    "    out = np.empty(n1.shape, dtype = np.int32)\n",
    "    for n in range(len(n1)) :\n",
    "        out[n] = n1[n]*n1[n] + n2[n]*n2[n]\n",
    "\n",
    "\n",
    "\n",
    "# s_t = time.time()\n",
    "\n",
    "\n",
    "# # print(n1)\n",
    "# # print(n2)\n",
    "# # print(out)\n",
    "# t = round((time.time() - s_t) * 1000)\n",
    "# print(\"Time Taken : \", t, \" ms\")"
   ]
  },
  {
   "cell_type": "code",
   "execution_count": 45,
   "metadata": {},
   "outputs": [
    {
     "name": "stdout",
     "output_type": "stream",
     "text": [
      "466 ms ± 41 ms per loop (mean ± std. dev. of 7 runs, 1 loop each)\n"
     ]
    },
    {
     "name": "stderr",
     "output_type": "stream",
     "text": [
      "/anaconda3/lib/python3.7/site-packages/ipykernel_launcher.py:6: RuntimeWarning: overflow encountered in int_scalars\n",
      "  \n"
     ]
    },
    {
     "name": "stdout",
     "output_type": "stream",
     "text": [
      "5.21 s ± 73.5 ms per loop (mean ± std. dev. of 7 runs, 1 loop each)\n"
     ]
    }
   ],
   "source": [
    "%timeit main_gpu()\n",
    "%timeit main_cpu()"
   ]
  },
  {
   "cell_type": "code",
   "execution_count": null,
   "metadata": {},
   "outputs": [],
   "source": []
  }
 ],
 "metadata": {
  "kernelspec": {
   "display_name": "Python 3",
   "language": "python",
   "name": "python3"
  },
  "language_info": {
   "codemirror_mode": {
    "name": "ipython",
    "version": 3
   },
   "file_extension": ".py",
   "mimetype": "text/x-python",
   "name": "python",
   "nbconvert_exporter": "python",
   "pygments_lexer": "ipython3",
   "version": "3.7.3"
  }
 },
 "nbformat": 4,
 "nbformat_minor": 2
}
