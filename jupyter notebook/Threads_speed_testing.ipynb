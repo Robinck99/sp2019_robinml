{
 "cells": [
  {
   "cell_type": "code",
   "execution_count": 66,
   "metadata": {},
   "outputs": [],
   "source": [
    "import threading\n",
    "import time\n",
    "import numpy as np\n",
    "\n",
    "num_of_d = 4\n",
    "\n",
    "def div_frame(frame, n) :\n",
    "    h = np.size(frame, 0)\n",
    "    w = np.size(frame, 1)\n",
    "    divided_frame = []\n",
    "    count = 0\n",
    "    for i in range(n) :\n",
    "        for j in range(n) :\n",
    "            divided_frame.append(frame[h//n * j : h//n * (j+1), w//n * i : w//n * (i + 1),:])\n",
    "            count += 1\n",
    "    return divided_frame\n",
    "\n",
    "def set_frame_to(l) :\n",
    "    for e in l :\n",
    "        for i in range(np.size(e, 0)) :\n",
    "            for j in range(np.size(e, 1)) :\n",
    "                e[i,j] = 1\n",
    "                \n",
    "def set_f_element_to(e) :\n",
    "    for i in range(np.size(e, 0)) :\n",
    "            for j in range(np.size(e, 1)) :\n",
    "                e[i,j] = 1\n",
    "\n",
    "def thread_creator(l) :\n",
    "    t_l = []\n",
    "    [t_l.append(threading.Thread(target=set_f_element_to, args=(e,))) for e in l]\n",
    "    [t.start() for t in t_l]\n",
    "    [t.join() for t in t_l]\n",
    "\n",
    "def main() :\n",
    "    s_t = time.time()\n",
    "    n = np.zeros((720,1280,3))\n",
    "    # print(n)\n",
    "    l = div_frame(n, num_of_d)\n",
    "    set_frame_to(l)\n",
    "    # print(n)\n",
    "    time_taken = round(int((time.time() - s_t ) * 1000))\n",
    "#     print(\"Time taken without t: \", time_taken, \" ms\")\n",
    "    return time_taken\n",
    "\n",
    "def main_t() :\n",
    "    s_t_t = time.time()\n",
    "    n = np.zeros((720,1280,3))\n",
    "    # print(n)\n",
    "    l = div_frame(n, num_of_d)\n",
    "    thread_creator(l)\n",
    "    # print(n)\n",
    "    time_taken = round(int((time.time() - s_t_t ) * 1000))\n",
    "#     print(\"Time taken  with t: \", time_taken, \" ms\")\n",
    "    return time_taken"
   ]
  },
  {
   "cell_type": "code",
   "execution_count": 67,
   "metadata": {},
   "outputs": [
    {
     "name": "stdout",
     "output_type": "stream",
     "text": [
      "568 ms ± 50.2 ms per loop (mean ± std. dev. of 7 runs, 1 loop each)\n",
      "560 ms ± 6.28 ms per loop (mean ± std. dev. of 7 runs, 1 loop each)\n"
     ]
    }
   ],
   "source": [
    "test_cases = 20\n",
    "%timeit main()\n",
    "%timeit main_t()\n",
    "# def test() :\n",
    "#     s = 0\n",
    "#     for x in range(test_cases) :\n",
    "#         s += main()\n",
    "#     print(\"### Approx Time ### : \", s//test_cases)\n",
    "    \n",
    "# def test_2() :\n",
    "#     s = 0 \n",
    "#     for x in range(test_cases) :\n",
    "#         s += main_t()\n",
    "#     print(\"### Approx Time with Threads ### : \", s//test_cases)\n",
    "    \n",
    "# %timeit test()\n",
    "# %timeit test_2()"
   ]
  },
  {
   "cell_type": "code",
   "execution_count": null,
   "metadata": {},
   "outputs": [],
   "source": []
  }
 ],
 "metadata": {
  "kernelspec": {
   "display_name": "Python 3",
   "language": "python",
   "name": "python3"
  },
  "language_info": {
   "codemirror_mode": {
    "name": "ipython",
    "version": 3
   },
   "file_extension": ".py",
   "mimetype": "text/x-python",
   "name": "python",
   "nbconvert_exporter": "python",
   "pygments_lexer": "ipython3",
   "version": "3.7.3"
  }
 },
 "nbformat": 4,
 "nbformat_minor": 2
}
