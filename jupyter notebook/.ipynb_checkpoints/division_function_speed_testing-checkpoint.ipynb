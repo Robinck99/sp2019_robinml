{
 "cells": [
  {
   "cell_type": "code",
   "execution_count": 23,
   "metadata": {},
   "outputs": [
    {
     "name": "stdout",
     "output_type": "stream",
     "text": [
      "(720, 1280, 3)\n",
      "[0. 0. 0.]\n",
      "(360, 640, 3)\n"
     ]
    }
   ],
   "source": [
    "import random\n",
    "import numpy as np\n",
    "import time\n",
    "frame = np.zeros((720,1280,3))\n",
    "print(frame.shape)\n",
    "print(frame[0,0])\n",
    "new = frame[:360,:640,:]\n",
    "print(new.shape)"
   ]
  },
  {
   "cell_type": "code",
   "execution_count": 34,
   "metadata": {},
   "outputs": [
    {
     "name": "stdout",
     "output_type": "stream",
     "text": [
      "20.9 µs ± 51.2 ns per loop (mean ± std. dev. of 7 runs, 10000 loops each)\n",
      "(180, 320, 3)\n",
      "16\n"
     ]
    }
   ],
   "source": [
    "def div_frame(frame, n) :\n",
    "    h = np.size(frame, 0)\n",
    "    w = np.size(frame, 1)\n",
    "    divided_frame = []\n",
    "    count = 0\n",
    "    for i in range(n) :\n",
    "        for j in range(n) :\n",
    "            divided_frame.append(frame[h//n * j : h//n * (j+1), w//n * i : w//n * (i + 1),:])\n",
    "            count += 1\n",
    "    return divided_frame\n",
    "%timeit l = div_frame(frame, 4)\n",
    "print(l[0].shape)\n",
    "print(len(l))"
   ]
  },
  {
   "cell_type": "code",
   "execution_count": null,
   "metadata": {},
   "outputs": [],
   "source": []
  },
  {
   "cell_type": "code",
   "execution_count": null,
   "metadata": {},
   "outputs": [],
   "source": []
  }
 ],
 "metadata": {
  "kernelspec": {
   "display_name": "Python 3",
   "language": "python",
   "name": "python3"
  },
  "language_info": {
   "codemirror_mode": {
    "name": "ipython",
    "version": 3
   },
   "file_extension": ".py",
   "mimetype": "text/x-python",
   "name": "python",
   "nbconvert_exporter": "python",
   "pygments_lexer": "ipython3",
   "version": "3.7.3"
  }
 },
 "nbformat": 4,
 "nbformat_minor": 2
}
