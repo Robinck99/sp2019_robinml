{
 "cells": [
  {
   "cell_type": "code",
   "execution_count": 1,
   "metadata": {},
   "outputs": [],
   "source": [
    "import os\n",
    "import tkinter as tk\n",
    "import threading\n",
    "import time \n",
    "import random\n"
   ]
  },
  {
   "cell_type": "code",
   "execution_count": 10,
   "metadata": {},
   "outputs": [
    {
     "name": "stderr",
     "output_type": "stream",
     "text": [
      "Exception in thread Thread-7:\n",
      "Traceback (most recent call last):\n",
      "  File \"/anaconda3/lib/python3.7/threading.py\", line 917, in _bootstrap_inner\n",
      "    self.run()\n",
      "  File \"/anaconda3/lib/python3.7/threading.py\", line 865, in run\n",
      "    self._target(*self._args, **self._kwargs)\n",
      "  File \"<ipython-input-8-5e33edb11dd4>\", line 9, in animation_matrix\n",
      "    startup_canvas.itemconfig('matrix_bg', text=create_matrix(w))\n",
      "  File \"/anaconda3/lib/python3.7/tkinter/__init__.py\", line 2578, in itemconfigure\n",
      "    return self._configure(('itemconfigure', tagOrId), cnf, kw)\n",
      "  File \"/anaconda3/lib/python3.7/tkinter/__init__.py\", line 1476, in _configure\n",
      "    self.tk.call(_flatten((self._w, cmd)) + self._options(cnf))\n",
      "RuntimeError: main thread is not in main loop\n",
      "\n"
     ]
    }
   ],
   "source": [
    "def create_matrix(w):\n",
    "    l = \"\"\n",
    "    for i in range(w * 10):\n",
    "        l += str(random.randint(0,1))\n",
    "    return l \n",
    "\n",
    "def animation_matrix(w, startup_canvas):\n",
    "    while True:\n",
    "        startup_canvas.itemconfig('matrix_bg', text=create_matrix(w))\n",
    "        time.sleep(0.1)"
   ]
  },
  {
   "cell_type": "code",
   "execution_count": 11,
   "metadata": {},
   "outputs": [
    {
     "name": "stderr",
     "output_type": "stream",
     "text": [
      "Exception in thread Thread-8:\n",
      "Traceback (most recent call last):\n",
      "  File \"/anaconda3/lib/python3.7/threading.py\", line 917, in _bootstrap_inner\n",
      "    self.run()\n",
      "  File \"/anaconda3/lib/python3.7/threading.py\", line 865, in run\n",
      "    self._target(*self._args, **self._kwargs)\n",
      "  File \"<ipython-input-10-e256a3760b99>\", line 9, in animation_matrix\n",
      "    startup_canvas.itemconfig('matrix_bg', text=create_matrix(w))\n",
      "  File \"/anaconda3/lib/python3.7/tkinter/__init__.py\", line 2578, in itemconfigure\n",
      "    return self._configure(('itemconfigure', tagOrId), cnf, kw)\n",
      "  File \"/anaconda3/lib/python3.7/tkinter/__init__.py\", line 1476, in _configure\n",
      "    self.tk.call(_flatten((self._w, cmd)) + self._options(cnf))\n",
      "RuntimeError: main thread is not in main loop\n",
      "\n"
     ]
    }
   ],
   "source": [
    "window = tk.Tk()\n",
    "\n",
    "w = window.winfo_screenwidth()\n",
    "h = window.winfo_screenheight()\n",
    "\n",
    "parent_canvas = tk.Canvas(window, width=w, height=h, bg=\"#000000\")\n",
    "\n",
    "startup_canvas = tk.Canvas(parent_canvas, width=w, height=h, bg=\"#000000\")\n",
    "parent_canvas.create_window(0,0, window=startup_canvas, anchor=tk.NW)\n",
    "\n",
    "startup_canvas.create_text(5, 5, text=create_matrix(w), fill=\"#00FFFF\", anchor=tk.NW, width=w, tags=\"matrix_bg\")\n",
    "\n",
    "thread_animation = threading.Thread(target=animation_matrix, args=(w, startup_canvas))\n",
    "thread_animation.start()\n",
    "\n",
    "parent_canvas.pack()\n",
    "tk.mainloop()"
   ]
  },
  {
   "cell_type": "code",
   "execution_count": 1,
   "metadata": {},
   "outputs": [
    {
     "data": {
      "text/plain": [
       "0.0589752197265625"
      ]
     },
     "execution_count": 1,
     "metadata": {},
     "output_type": "execute_result"
    }
   ],
   "source": [
    "\n",
    "        img = tk.PhotoImage(file=map_drawn, master=parent_canvas)\n",
    "        parent_canvas.itemconfig('map_IN' ,image=img)\n",
    "\n",
    "# pid = os.getpid()\n",
    "# py = psutil.Process(pid)\n",
    "# py.memory_info()[0]/2.**30\n",
    "\n",
    "# for i in range(1,101):\n",
    "#     parent_canvas.create_line(i * w//100, 0, i * w//100, h, fill=\"#008080\", width=\"1\")\n",
    "#     parent_canvas.create_line(0, i * h//100, w, i * h//100, fill=\"#008080\", width=\"1\")\n",
    "    \n",
    "    \n",
    "# def monitor_ram_usage():\n",
    "#     mem_used = py.memory_info()[0]/2.**30\n",
    "    \n",
    "# monitor_ram_usage()"
   ]
  },
  {
   "cell_type": "code",
   "execution_count": null,
   "metadata": {},
   "outputs": [],
   "source": []
  }
 ],
 "metadata": {
  "kernelspec": {
   "display_name": "Python 3",
   "language": "python",
   "name": "python3"
  },
  "language_info": {
   "codemirror_mode": {
    "name": "ipython",
    "version": 3
   },
   "file_extension": ".py",
   "mimetype": "text/x-python",
   "name": "python",
   "nbconvert_exporter": "python",
   "pygments_lexer": "ipython3",
   "version": "3.7.3"
  }
 },
 "nbformat": 4,
 "nbformat_minor": 2
}
