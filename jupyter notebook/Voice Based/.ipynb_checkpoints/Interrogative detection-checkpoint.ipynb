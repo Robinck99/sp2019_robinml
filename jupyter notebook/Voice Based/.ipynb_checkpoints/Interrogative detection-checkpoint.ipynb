{
 "cells": [
  {
   "cell_type": "code",
   "execution_count": 5,
   "metadata": {},
   "outputs": [],
   "source": [
    "import pandas as pd\n",
    "import sklearn\n",
    "from sklearn.model_selection import train_test_split\n",
    "from sklearn.ensemble import ExtraTreesClassifier\n",
    "from sklearn.metrics import accuracy_score\n",
    "\n",
    "dataset = pd.read_csv(\"interrogative_type_datset_filtered.csv\").iloc[:,1:]\n",
    "dataset.head()\n",
    "\n",
    "required_word = ['you', 'what', 'do', 'how', 'did', 'is', 'why', 'are', 'your', 'says:', 'can', 'does', 'who', 'where', 'then,', \"what's\", 'this', 'going', 'think', 'ask', 'will', 'mean', 'know', 'sir', 'asked,', 'tell', 'suppose', 'well,', \"ain't\", 'then', 'say,', 'dat', 'question', 'father', 'why,', 'you,', 'ever', \"won't\", 'get', \"s'pose\", 'go', 'name', 'what,', 'now,', 'reckon', \"can't\", 'want', 'to-night', \"who's\", 'says', 'yourself', 'jim', '_is_']"
   ]
  },
  {
   "cell_type": "code",
   "execution_count": 6,
   "metadata": {},
   "outputs": [],
   "source": [
    "x = dataset.iloc[:,1:-1]\n",
    "y = dataset.iloc[:,-1]\n",
    "train_x, test_x, train_y, test_y = train_test_split(x, y, test_size=0.2, random_state=88)\n"
   ]
  },
  {
   "cell_type": "code",
   "execution_count": 7,
   "metadata": {},
   "outputs": [
    {
     "name": "stderr",
     "output_type": "stream",
     "text": [
      "/anaconda3/lib/python3.7/site-packages/sklearn/ensemble/forest.py:246: FutureWarning: The default value of n_estimators will change from 10 in version 0.20 to 100 in 0.22.\n",
      "  \"10 in version 0.20 to 100 in 0.22.\", FutureWarning)\n"
     ]
    }
   ],
   "source": [
    "# GaussianNB                       60\n",
    "# MultinomialNB                    64\n",
    "# KNeighborsClassifier n =  3      71\n",
    "# KNeighborsClassifier n =  5      74\n",
    "# SGDClassifier                    71\n",
    "# DecisionTreeClassifier           72\n",
    "# SVM                              76 #\n",
    "# GradientBoostingClassifier       76 #\n",
    "# RandomForestClassifier           75\n",
    "# AdaBoostClassifier               74\n",
    "# LogisticRegression               74\n",
    "# ExtraTreesClassifier             75\n",
    "\n",
    "\n",
    "gnb = ExtraTreesClassifier()\n",
    "model = gnb.fit(train_x, train_y)"
   ]
  },
  {
   "cell_type": "code",
   "execution_count": 8,
   "metadata": {},
   "outputs": [
    {
     "name": "stdout",
     "output_type": "stream",
     "text": [
      "[1 1 0 0 0 1 0 1 1 0 1 1 0 0 0 1 1 0 1 1 0 1 1 0 1 1 1 0 1 1 1 1 0 0 1 1 0\n",
      " 1 0 0 0 0 0 0 1 0 1 0 1 0 0 0 1 1 1 1 0 0 0 1 0 0 0 1 1 1 1 1 0 0 1 0 1 0\n",
      " 1 1 0 1 0 0 0 1 0 0 0 0 1 0 0 1 1 0 0 0 1 1 1 0 0 1 1 0 1 1 1 0 0 1 0 0 0\n",
      " 1 1 0 0 0 1 0 0 1 1 0 0 0 0 1 1 1 0 1 0 1 1 1 0 0 1 0 1 0 0 1 0 1 1 1 0 0\n",
      " 1 0 0 1 1 1 0 1 1 0 1 1 0 0 0 0 0 1 1 1 0 0 0 0 0 1 0 0 0 0 0 1 0 0 0 0 1\n",
      " 0 0 0 1 1 0 1 1 0 1 1 0 0 1 0 0 0 1 1 0 0 0 0 1 1 1 1 0 0 1 0 1 0 0 1 0 0\n",
      " 0 1 1 1 1 0 0 1 1 0 0 0 0 0 0 0 0 0 0 0 0 1 0 1 0 1 0 1 0 0 0 0 1 1 1 0 0\n",
      " 0 0 0 0 0 0 0 0 0 0 1 0 0 1 1 1 0 1 1 0 0 0 1 1 0 0 0 1 1 1 1 1 1 0 1 1 1\n",
      " 1 0 0 0 0 0 1 1 0 0 1 1 1 1 0 0 0 0 0 0 1 1 0 1 0 1 0 0 0 1 0 0 0 0 0 1 1\n",
      " 1 0 1 1 1 0 0 0 1 0 1 1 0 0 0 0 1 1 0 0 0 0 1 1 1 0 0 1 0 0 0 1 1 1 1 0 0\n",
      " 0 1 0 1 1 0 1 1 0 1 1 1 0 0 1 0 0 1 0 0 1 0 1 0 0 0 0 0 0 1 0 0 1 0 0 0 1\n",
      " 1 1 1 1 0 1 0 1 0 1 1 0 0 0 0 1 0 1 0 0 0 0 0 0 1 0 1 1 1 0 0 1 0 0 0 1 0\n",
      " 0 1 0 1 0 1 0 1 0 0 1 1 1 1 0 1 1 0 1 0 0 1 0 1 0 0 0 0 0 0 0 1 1 1 1 0 1\n",
      " 0 0 1 0 0 0 0 1 1 0 0 0 1 1 1 1 0 0 0 0 0 0 1 0 0 0 0 0 0 1 1 0 1 0 1 1 0\n",
      " 1 0 0 0 0 0 1 0 0 1 0 0 1 1 0 0 1 1 0 0 0 0 0 0 0 0 1 0 0 0 0 1 1 1 1 0 1\n",
      " 1 0 0 1 0 1 1 1 1 1 1 1 1 1 0 0 0 1 0 1 1 1 0 0 0 1 1 1 0 1 0 0 0 1 1 0 1\n",
      " 0 0 0 0 1 0 1 0 0 0 1 1 1 1 0 0 0 0 0 1 1 1 1 0 0 1 0 1 1 1 0 1 0 1 1 0 0\n",
      " 0 0 0 0 0 0 0 0 1 1 1 0 0 0 1 0 1 0 1 1 0 0 0 1 1 1 1 0 1 0 1 0 0 0 0 0 0\n",
      " 0 1 1 0 0 0 0 0 0 1 1 1 0 0 1 0 0 0 0 1 1 0 0 1 1 0 0 1 0 1 0 0 1 0 0 0 1\n",
      " 0 0 0 1 1 0 0 0 0 1 0 1 1 0 0 0 0 0 1 0 0 1 0 0 0 1 1 0 1 0 0 0 1 0 1 1 1\n",
      " 0 1 1 0 0 0 1 1 1 1 1 0 1 0 0 1 0 0 0 1 0 0 1 0 0 0 1 1 0 0 0 0 1 1 0 0 1\n",
      " 0 0 1 0 0 0 0 0 0 1 0 0 1 1 1 0 0 1 0 0 0 0 0 0 0 1 1 0 0 1 1 0 0 0 0 1 1\n",
      " 0 0 0 0 1 1 1 0 0 1 0 1 1 0 0 1 0 0 1 1 0 0 0 1 0 0 1 1 0 1 0 0 1 0 0 0 0\n",
      " 0 1 1 0 0 0 0 1 0 0 0 1 1 0 0 1 1 0 0 0 0 1 0 0 0 0 0 0 0 0 0 1 1 0 0 1 1\n",
      " 1 1 1 1 0 1 0 1 1 1 0 0 0 1 1 0 0 0 0 1 0 0 1 0 1 0 0 1 1 1 0 0 1 1 0 0 1\n",
      " 0 0 1 1 1 0 1 1 1 0 0]\n",
      "0.7467948717948718\n"
     ]
    }
   ],
   "source": [
    "pred = gnb.predict(test_x)\n",
    "print(pred)\n",
    "print(accuracy_score(test_y, pred))"
   ]
  },
  {
   "cell_type": "code",
   "execution_count": 11,
   "metadata": {},
   "outputs": [
    {
     "name": "stdout",
     "output_type": "stream",
     "text": [
      "Enter sent to check : do you want to create dataframe\n",
      "Thats an Question.\n"
     ]
    }
   ],
   "source": [
    "string = input(\"Enter sent to check : \")\n",
    "prec_x = []\n",
    "for i in range(len(required_word)):\n",
    "    prec_x.append(int(required_word[i] in string))\n",
    "prec_x\n",
    "p = gnb.predict([prec_x])\n",
    "if p == 1 :\n",
    "    print(\"Thats an Question.\")\n",
    "else :\n",
    "    print(\"Thats simple.\")"
   ]
  },
  {
   "cell_type": "code",
   "execution_count": null,
   "metadata": {},
   "outputs": [],
   "source": []
  }
 ],
 "metadata": {
  "kernelspec": {
   "display_name": "Python 3",
   "language": "python",
   "name": "python3"
  },
  "language_info": {
   "codemirror_mode": {
    "name": "ipython",
    "version": 3
   },
   "file_extension": ".py",
   "mimetype": "text/x-python",
   "name": "python",
   "nbconvert_exporter": "python",
   "pygments_lexer": "ipython3",
   "version": "3.7.3"
  }
 },
 "nbformat": 4,
 "nbformat_minor": 2
}
