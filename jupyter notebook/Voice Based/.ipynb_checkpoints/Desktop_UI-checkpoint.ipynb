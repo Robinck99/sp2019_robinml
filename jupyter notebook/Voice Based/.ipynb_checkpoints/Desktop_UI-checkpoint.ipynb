{
 "cells": [
  {
   "cell_type": "code",
   "execution_count": 39,
   "metadata": {},
   "outputs": [],
   "source": [
    "import tkinter as tk\n",
    "import nltk\n",
    "from nltk.corpus import nps_chat\n",
    "import threading\n",
    "import requests\n",
    "import os\n",
    "\n",
    "path = os.getcwd()\n",
    "\n",
    "ip = \"192.168.1.101\"\n",
    "\n",
    "posts = nps_chat.xml_posts()[:1000]\n",
    "\n",
    "w_modes = ['file', 'coding', 'run', 'selection', 'scroll', 'delete word', 'delete line']\n",
    "\n",
    "working_mode = 'file'"
   ]
  },
  {
   "cell_type": "code",
   "execution_count": 1,
   "metadata": {},
   "outputs": [],
   "source": [
    "def analyse_command(action):\n",
    "    pass"
   ]
  },
  {
   "cell_type": "code",
   "execution_count": 2,
   "metadata": {},
   "outputs": [
    {
     "ename": "NameError",
     "evalue": "name 'threading' is not defined",
     "output_type": "error",
     "traceback": [
      "\u001b[0;31m---------------------------------------------------------------------------\u001b[0m",
      "\u001b[0;31mNameError\u001b[0m                                 Traceback (most recent call last)",
      "\u001b[0;32m<ipython-input-2-6e7c296944bc>\u001b[0m in \u001b[0;36m<module>\u001b[0;34m\u001b[0m\n\u001b[1;32m     13\u001b[0m                 \u001b[0mloop\u001b[0m \u001b[0;34m=\u001b[0m \u001b[0;32mFalse\u001b[0m\u001b[0;34m\u001b[0m\u001b[0;34m\u001b[0m\u001b[0m\n\u001b[1;32m     14\u001b[0m \u001b[0;34m\u001b[0m\u001b[0m\n\u001b[0;32m---> 15\u001b[0;31m \u001b[0mthread_server_data_fetch\u001b[0m  \u001b[0;34m=\u001b[0m \u001b[0mthreading\u001b[0m\u001b[0;34m.\u001b[0m\u001b[0mThread\u001b[0m\u001b[0;34m(\u001b[0m\u001b[0mtarget\u001b[0m\u001b[0;34m=\u001b[0m\u001b[0mserver_data_fetch\u001b[0m\u001b[0;34m)\u001b[0m\u001b[0;34m.\u001b[0m\u001b[0mstart\u001b[0m\u001b[0;34m(\u001b[0m\u001b[0;34m)\u001b[0m\u001b[0;34m\u001b[0m\u001b[0;34m\u001b[0m\u001b[0m\n\u001b[0m",
      "\u001b[0;31mNameError\u001b[0m: name 'threading' is not defined"
     ]
    }
   ],
   "source": [
    "def server_data_fetch():\n",
    "    s_c_link = \"http://\" + ip + \":8000/check_status/\"\n",
    "    g_c_d_link = \"http://\" + ip + \":8000/get_command_data/\"\n",
    "\n",
    "    loop = True\n",
    "    while loop:\n",
    "        status_check = int(requests.get(s_c_link).text)\n",
    "        if status_check : \n",
    "            command = requests.get(g_c_d_link).text.strip()\n",
    "            command = command[1:-1]\n",
    "            print(command)\n",
    "            if (command == 'exit loop') :\n",
    "                loop = False\n",
    "\n",
    "thread_server_data_fetch  = threading.Thread(target=server_data_fetch).start()"
   ]
  },
  {
   "cell_type": "code",
   "execution_count": null,
   "metadata": {},
   "outputs": [],
   "source": [
    "def command_switch_mode(mode):\n",
    "    global working_mode\n",
    "    working_mode = mode"
   ]
  },
  {
   "cell_type": "code",
   "execution_count": 117,
   "metadata": {},
   "outputs": [],
   "source": [
    "window = tk.Tk()\n",
    "\n",
    "def create_rounded_rect(canvas, x1, y1, x2, y2, **kwargs ) :\n",
    "    h = y2 - y1\n",
    "    canvas.create_oval( x1, y1, x1+h, y1+h, outline=\"\", **kwargs )\n",
    "    canvas.create_line( x1+h/2, y1 + h/2, x2-h/2, y1 + h/2, width=h, **kwargs)\n",
    "    canvas.create_oval( x2 - h, y2 - h, x2, y2, outline=\"\", **kwargs )\n",
    "\n",
    "def call_command(event) :\n",
    "    action = event.widget.get().lower().strip()\n",
    "    analyse_command(action)\n",
    "\n",
    "parent_canvas = tk.Canvas(window, width=1000, height=750)\n",
    "canvas_action = tk.Canvas(parent_canvas, width=250, height=50)\n",
    "parent_canvas.create_window(730, 680, anchor=tk.NW, window=canvas_action)\n",
    "\n",
    "# action_txt = tk.Entry(canvas_action, width=25)\n",
    "# action_txt.bind('<Return>', call_command)\n",
    "# canvas_action.create_window((10,13), window=action_txt, anchor='nw')\n",
    "\n",
    "\n",
    "\n",
    "    \n",
    "canvas_status = tk.Canvas(parent_canvas, width=100, height=37)\n",
    "create_rounded_rect(canvas_status, 5, 6, 90, 30, fill=\"#dddddd\")\n",
    "txt_status = canvas_status.create_text(50, 17, text=working_mode, font=\"Time 14\", fill=\"#666666\")\n",
    "parent_canvas.create_window(890, 10, anchor=tk.NW, window=canvas_status)\n",
    "\n",
    "parent_canvas.pack()\n",
    "tk.mainloop()"
   ]
  },
  {
   "cell_type": "code",
   "execution_count": null,
   "metadata": {},
   "outputs": [],
   "source": [
    "# show files\n",
    "canvas_file = tk.Canvas(parent_canvas, width=700 , height=700 , bg = \"#dddddd\")\n",
    "parent_canvas.create_window(5, 5, anchor= tk.NW, window=canvas_file)\n",
    "\n",
    "# creating a Design for file icon with name\n",
    "img_folder = tk.PhotoImage(file=path + '/assets/folder.png', master=parent_canvas)\n",
    "img_file = tk.PhotoImage(file=path + '/assets/file.png', master=parent_canvas)\n",
    "\n",
    "dummy = [('.' + str(x)) for i in range(100)]\n",
    "\n",
    "for i,val in enumerate(dummy):\n",
    "    y = 0 + (i // 10) * 70\n",
    "    x = 0 + i * 70 - (y * 10)\n",
    "    canvas_file_obj = tk.Canvas(canvas_file, width=70, height=70)\n",
    "    val = str(val)\n",
    "    if '.' in val :\n",
    "        canvas_file_obj.create_image(15, 15, image=img_file, anchor = tk.NW, tags=\"folder\")\n",
    "    else :\n",
    "        canvas_file_obj.create_image(15, 15, image=img_folder, anchor = tk.NW, tags=\"folder\")\n",
    "            \n",
    "    t = canvas_file_obj.create_text(35, 65, text= \"file = \" + val, fill=\"#666666\", font=\"Time 10\")\n",
    "    canvas_file.create_window(x, y, anchor=tk.NW, window=canvas_file_obj)"
   ]
  },
  {
   "cell_type": "code",
   "execution_count": null,
   "metadata": {},
   "outputs": [],
   "source": [
    "# coding Mode\n",
    "canvas_coding = tk.Canvas(parent_canvas, width=800, height=730, bg=\"#eeeeee\")\n",
    "parent_canvas.create_window(5, 5, window=canvas_coding, anchor=tk.NW)\n",
    "\n",
    "for i in range(20):\n",
    "    canvas_coding.create_line(0, 40 + i*40, 810, 40 + i*40, width=20, fill=\"#cccccc\")\n",
    "    canvas_coding.create_text(15, 20 + i*40 , text=str(i*2 + 1), fill=\"#666666\", font=\"Time 12\")\n",
    "    canvas_coding.create_text(15, 40 + i*40 , text=str(i*2 + 2), fill=\"#ffffff\", font=\"Time 12\")\n",
    "    \n",
    "canvas_coding.create_line(28, 0, 28, 735, width=\"2\", fill = \"#ffffff\")"
   ]
  },
  {
   "cell_type": "code",
   "execution_count": null,
   "metadata": {},
   "outputs": [],
   "source": [
    "# show modes\n",
    "# exit mode menu\n",
    "# go back a folder\n",
    "# open given folder\n"
   ]
  }
 ],
 "metadata": {
  "kernelspec": {
   "display_name": "Python 3",
   "language": "python",
   "name": "python3"
  },
  "language_info": {
   "codemirror_mode": {
    "name": "ipython",
    "version": 3
   },
   "file_extension": ".py",
   "mimetype": "text/x-python",
   "name": "python",
   "nbconvert_exporter": "python",
   "pygments_lexer": "ipython3",
   "version": "3.7.3"
  }
 },
 "nbformat": 4,
 "nbformat_minor": 2
}
