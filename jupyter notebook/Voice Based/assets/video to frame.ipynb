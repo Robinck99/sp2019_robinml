{
 "cells": [
  {
   "cell_type": "code",
   "execution_count": 3,
   "metadata": {},
   "outputs": [],
   "source": [
    "import cv2 as cv\n",
    "import os \n",
    "\n",
    "path = os.getcwd() + \"/video/intro.mp4\"\n",
    "\n",
    "vid = cv.VideoCapture(path)\n",
    "\n",
    "getable = 1\n",
    "count = 0\n",
    "\n",
    "while getable:\n",
    "    getable, frm = vid.read()\n",
    "    cv.imwrite(os.getcwd() + \"/video/frame%d.jpg\" % count, frm)\n",
    "    count += 1"
   ]
  },
  {
   "cell_type": "code",
   "execution_count": null,
   "metadata": {},
   "outputs": [],
   "source": []
  }
 ],
 "metadata": {
  "kernelspec": {
   "display_name": "Python 3",
   "language": "python",
   "name": "python3"
  },
  "language_info": {
   "codemirror_mode": {
    "name": "ipython",
    "version": 3
   },
   "file_extension": ".py",
   "mimetype": "text/x-python",
   "name": "python",
   "nbconvert_exporter": "python",
   "pygments_lexer": "ipython3",
   "version": "3.7.3"
  }
 },
 "nbformat": 4,
 "nbformat_minor": 2
}
