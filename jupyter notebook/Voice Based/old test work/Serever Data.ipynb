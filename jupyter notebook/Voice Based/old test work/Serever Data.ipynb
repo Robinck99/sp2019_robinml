{
 "cells": [
  {
   "cell_type": "code",
   "execution_count": 1,
   "metadata": {},
   "outputs": [],
   "source": [
    "import requests\n",
    "\n",
    "ip = \"192.168.1.101\"\n",
    "\n"
   ]
  },
  {
   "cell_type": "code",
   "execution_count": null,
   "metadata": {},
   "outputs": [
    {
     "name": "stdout",
     "output_type": "stream",
     "text": [
      "there anyone\n",
      "exit loop\n"
     ]
    }
   ],
   "source": [
    "s_c_link = \"http://\" + ip + \":8000/check_status/\"\n",
    "g_c_d_link = \"http://\" + ip + \":8000/get_command_data/\"\n",
    "\n",
    "loop = True\n",
    "while loop:\n",
    "    status_check = int(requests.get(s_c_link).text)\n",
    "    if status_check : \n",
    "        command = requests.get(g_c_d_link).text.strip()\n",
    "        command = command[1:-1]\n",
    "        print(command)\n",
    "        if (command == 'exit loop') :\n",
    "            loop = False"
   ]
  }
 ],
 "metadata": {
  "kernelspec": {
   "display_name": "Python 3",
   "language": "python",
   "name": "python3"
  },
  "language_info": {
   "codemirror_mode": {
    "name": "ipython",
    "version": 3
   },
   "file_extension": ".py",
   "mimetype": "text/x-python",
   "name": "python",
   "nbconvert_exporter": "python",
   "pygments_lexer": "ipython3",
   "version": "3.7.3"
  }
 },
 "nbformat": 4,
 "nbformat_minor": 2
}
