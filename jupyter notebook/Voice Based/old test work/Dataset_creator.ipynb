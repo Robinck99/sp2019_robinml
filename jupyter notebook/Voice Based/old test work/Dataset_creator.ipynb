{
 "cells": [
  {
   "cell_type": "code",
   "execution_count": 32,
   "metadata": {},
   "outputs": [],
   "source": [
    "import import_set as ims\n",
    "import pandas as pd\n",
    "\n",
    "def call(say,isString=False):\n",
    "    if isString:\n",
    "        return input(say)\n",
    "    else :\n",
    "        val = eval(input(say))\n",
    "        return val\n"
   ]
  },
  {
   "cell_type": "code",
   "execution_count": 50,
   "metadata": {},
   "outputs": [],
   "source": [
    "def create_dataframe(n=None):\n",
    "    \"\"\" Major var to be returned \n",
    "        n = number of columns\n",
    "        column_name = list with column names\n",
    "        var name\n",
    "    \"\"\"\n",
    "    column_name = []\n",
    "    var_name = 'dataframe'\n",
    "    # if the number of columns are not defined get them\n",
    "    if n == None :\n",
    "        n = call(\"How many columns should the dataframe have ? \\n\")\n",
    "    column_name = ['column_'+str(x) for x in range(n)]\n",
    "    # asking for names to replace default columns names\n",
    "    c = call(\"Would u like to change column names? \\n\", True)\n",
    "    if c == 'y' :\n",
    "        column_name = []\n",
    "        for i in range(n):\n",
    "            column_name.append(call(\"Change column_\" + str(i) + \" to : \", True))\n",
    "        print(column_name)\n",
    "    # asking for change in var name if they want\n",
    "    c = call(\"Would u like to change variable name for dataFrame ? \\n\", True)\n",
    "    if c == 'y' :\n",
    "        var_name = call(\"new Variable name : \", True)\n",
    "        \n",
    "    statement = var_name + \" = pd.DataFrame( columns=\" + str(column_name) + \")\"\n",
    "    print(statement)\n",
    "    return statement\n",
    "\n"
   ]
  },
  {
   "cell_type": "code",
   "execution_count": 51,
   "metadata": {},
   "outputs": [
    {
     "name": "stdout",
     "output_type": "stream",
     "text": [
      "How many columns should the dataframe have ? \n",
      "2\n",
      "Would u like to change column names? \n",
      "n\n",
      "Would u like to change variable name for dataFrame ? \n",
      "y\n",
      "new Variable name : df\n",
      "df = pd.DataFrame( columns=['column_0', 'column_1'])\n"
     ]
    }
   ],
   "source": [
    "create_dataframe()"
   ]
  },
  {
   "cell_type": "code",
   "execution_count": 44,
   "metadata": {},
   "outputs": [],
   "source": [
    "df = pd.DataFrame(columns=['column_1','column_2'])"
   ]
  },
  {
   "cell_type": "code",
   "execution_count": 46,
   "metadata": {},
   "outputs": [
    {
     "data": {
      "text/plain": [
       "\"['column_0', 'column_1', 'column_2']\""
      ]
     },
     "execution_count": 46,
     "metadata": {},
     "output_type": "execute_result"
    }
   ],
   "source": []
  },
  {
   "cell_type": "code",
   "execution_count": null,
   "metadata": {},
   "outputs": [],
   "source": []
  }
 ],
 "metadata": {
  "kernelspec": {
   "display_name": "Python 3",
   "language": "python",
   "name": "python3"
  },
  "language_info": {
   "codemirror_mode": {
    "name": "ipython",
    "version": 3
   },
   "file_extension": ".py",
   "mimetype": "text/x-python",
   "name": "python",
   "nbconvert_exporter": "python",
   "pygments_lexer": "ipython3",
   "version": "3.7.3"
  }
 },
 "nbformat": 4,
 "nbformat_minor": 2
}
