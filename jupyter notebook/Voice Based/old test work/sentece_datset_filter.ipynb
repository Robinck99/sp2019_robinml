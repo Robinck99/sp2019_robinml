{
 "cells": [
  {
   "cell_type": "code",
   "execution_count": 1,
   "metadata": {},
   "outputs": [],
   "source": [
    "import pandas as pd\n",
    "\n",
    "dataset = pd.read_csv(\"interrogative_type_datset.csv\")"
   ]
  },
  {
   "cell_type": "code",
   "execution_count": 2,
   "metadata": {},
   "outputs": [
    {
     "name": "stdout",
     "output_type": "stream",
     "text": [
      "4204 8173\n",
      "319 1023\n",
      "['you', 'what', 'do', 'how', 'did', 'is', 'why', 'are', 'your', 'says:', 'can', 'does', 'who', 'where', 'then,', \"what's\", 'this', 'going', 'think', 'ask', 'will', 'mean', 'know', 'sir', 'asked,', 'tell', 'suppose', 'well,', \"ain't\", 'then', 'say,', 'dat', 'question', 'father', 'why,', 'you,', 'ever', \"won't\", 'get', \"s'pose\", 'go', 'name', 'what,', 'now,', 'reckon', \"can't\", 'want', 'to-night', \"who's\", 'says', 'yourself', 'jim', '_is_']\n"
     ]
    }
   ],
   "source": [
    "dataset_q = dataset[dataset.type == 1]\n",
    "dataset_s = dataset[dataset.type == 0]\n",
    "\n",
    "def datset_to_word_freq(dset):\n",
    "    dic_q = {}\n",
    "    for n in range(len(dset)):\n",
    "        sent = dset.iloc[n,1]\n",
    "        d = str(sent).lower().split(\" \")\n",
    "        for w in d:\n",
    "            if w in dic_q.keys():\n",
    "                dic_q[w] += 1\n",
    "            else :\n",
    "                dic_q[w] = 1\n",
    "    return dic_q\n",
    "\n",
    "dic_q = datset_to_word_freq(dataset_q)\n",
    "dic_s = datset_to_word_freq(dataset_s)\n",
    "print(len(dic_q), len(dic_s))\n",
    "\n",
    "print(dic_s['you'], dic_q['you'])\n",
    "\n",
    "for w in dic_q.keys():\n",
    "    if w in dic_s.keys():\n",
    "        dic_q[w] -= dic_s[w]\n",
    "        \n",
    "list_q_freq = list(dic_q.values())\n",
    "list_q_freq.sort(reverse=True)\n",
    "\n",
    "required_word = []\n",
    "\n",
    "while 50 > len(required_word):\n",
    "    for k,v in dic_q.items():\n",
    "        if v == list_q_freq[len(required_word)]:\n",
    "            required_word.append(k)\n",
    "print(required_word)\n",
    "required_word.insert(0,'sent')\n",
    "required_word.append('type')"
   ]
  },
  {
   "cell_type": "code",
   "execution_count": 12,
   "metadata": {},
   "outputs": [],
   "source": [
    "dataset_filtered = pd.DataFrame(columns=required_word)\n",
    "dataset_filtered\n",
    "for i in range(len(dataset)):\n",
    "    sent = str(dataset.iloc[i,1]).lower()\n",
    "    dic_entry = {}\n",
    "    dic_entry['sent'] = sent\n",
    "    for w in range(1,len(required_word)-1):\n",
    "        dic_entry[required_word[w]] = int((required_word[w] in sent))\n",
    "    dic_entry['type'] = dataset.iloc[i,-1]\n",
    "    dataset_filtered = dataset_filtered.append(pd.Series(dic_entry),ignore_index=True)"
   ]
  },
  {
   "cell_type": "code",
   "execution_count": 14,
   "metadata": {},
   "outputs": [],
   "source": [
    "dataset_filtered.to_csv(\"interrogative_type_datset_filtered.csv\")"
   ]
  },
  {
   "cell_type": "code",
   "execution_count": 9,
   "metadata": {},
   "outputs": [],
   "source": [
    "# plan 2 with given words as question\n",
    "qustion_word_list = ['what', 'where', 'how', 'who', 'did', 'are', 'can', 'could', 'does', 'do', 'think', 'ask', 'was', 'is', 'why', 'will', 'wana']"
   ]
  },
  {
   "cell_type": "code",
   "execution_count": 10,
   "metadata": {},
   "outputs": [
    {
     "name": "stdout",
     "output_type": "stream",
     "text": [
      "Enter to  check : is there any folder named voice based\n",
      "Thats an qestion \n"
     ]
    }
   ],
   "source": [
    "string = input(\"Enter to  check : \")\n",
    "string_w = string.split(\" \")\n",
    "if string_w[0].lower() in qustion_word_list:\n",
    "    print(\"Thats an qestion \")\n",
    "else: \n",
    "    print(\"That's not an question\")"
   ]
  },
  {
   "cell_type": "code",
   "execution_count": null,
   "metadata": {},
   "outputs": [],
   "source": []
  }
 ],
 "metadata": {
  "kernelspec": {
   "display_name": "Python 3",
   "language": "python",
   "name": "python3"
  },
  "language_info": {
   "codemirror_mode": {
    "name": "ipython",
    "version": 3
   },
   "file_extension": ".py",
   "mimetype": "text/x-python",
   "name": "python",
   "nbconvert_exporter": "python",
   "pygments_lexer": "ipython3",
   "version": "3.7.3"
  }
 },
 "nbformat": 4,
 "nbformat_minor": 2
}
