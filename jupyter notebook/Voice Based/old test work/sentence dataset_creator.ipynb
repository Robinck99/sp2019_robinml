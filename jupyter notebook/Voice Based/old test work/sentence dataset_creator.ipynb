{
 "cells": [
  {
   "cell_type": "code",
   "execution_count": 69,
   "metadata": {},
   "outputs": [],
   "source": [
    "import pandas as pd\n",
    "import random"
   ]
  },
  {
   "cell_type": "code",
   "execution_count": 25,
   "metadata": {},
   "outputs": [
    {
     "data": {
      "text/plain": [
       "str"
      ]
     },
     "execution_count": 25,
     "metadata": {},
     "output_type": "execute_result"
    }
   ],
   "source": [
    "file = open(\"story.txt\",'r')\n",
    "book = file.read()\n",
    "type(book)"
   ]
  },
  {
   "cell_type": "code",
   "execution_count": 26,
   "metadata": {},
   "outputs": [],
   "source": [
    "book = book.replace(\"\\n\",\" \")\n",
    "book_sent = book.split(\".\")\n",
    "rem_i = []\n",
    "for s in book_sent:\n",
    "    if '!' in s:\n",
    "        rem_i.append(s)\n",
    "        l = s.split(\"!\")\n",
    "        for w in l:\n",
    "            book_sent.append(w)\n",
    "for i in sorted(rem_i, reverse=True):\n",
    "    book_sent.remove(i)"
   ]
  },
  {
   "cell_type": "code",
   "execution_count": 62,
   "metadata": {
    "scrolled": true
   },
   "outputs": [
    {
     "data": {
      "text/plain": [
       "2483"
      ]
     },
     "execution_count": 62,
     "metadata": {},
     "output_type": "execute_result"
    }
   ],
   "source": [
    "# collect word with ????\n",
    "q_list = []\n",
    "rem_l = []\n",
    "for v,s in enumerate(book_sent):\n",
    "    if '?' in s:\n",
    "        q_list.append(s)\n",
    "        rem_l.append(v)\n",
    "for i,s in enumerate(q_list):\n",
    "    string = \"\"\n",
    "    for w in s:\n",
    "        string += w\n",
    "        if w == '?':\n",
    "            break\n",
    "    q_list[i] = string\n",
    "len(q_list)"
   ]
  },
  {
   "cell_type": "code",
   "execution_count": 75,
   "metadata": {},
   "outputs": [
    {
     "data": {
      "text/plain": [
       "2353"
      ]
     },
     "execution_count": 75,
     "metadata": {},
     "output_type": "execute_result"
    }
   ],
   "source": [
    "dataframe_questions = pd.DataFrame(columns=[\"sent\",\"type\"])\n",
    "for i,s in enumerate(q_list):\n",
    "    s = s.replace('“',\" \")\n",
    "    s = s.replace('”',' ')\n",
    "    s = s.replace('‘',' ')\n",
    "    s = s.replace('’',' ')\n",
    "    s = s.strip()\n",
    "    dataframe_questions.loc[i] = pd.Series({'sent':s[:-1],'type':1})\n",
    "dataframe_questions = dataframe_questions.drop_duplicates(\"sent\").reset_index(drop=True)\n",
    "len(dataframe_questions)"
   ]
  },
  {
   "cell_type": "code",
   "execution_count": 78,
   "metadata": {},
   "outputs": [],
   "source": [
    "sam_list = book_sent[:]\n",
    "for i in sorted(rem_l, reverse=True):\n",
    "    del sam_list[i]\n",
    "len(sam_list)\n",
    "rand_simp_list = random.choices(sam_list, k=(len(dataframe_questions)+1000))"
   ]
  },
  {
   "cell_type": "code",
   "execution_count": 81,
   "metadata": {},
   "outputs": [],
   "source": [
    "len(rand_simp_list)\n",
    "dataframe_samp = pd.DataFrame(columns=[\"sent\",\"type\"])\n",
    "for i,s in enumerate(rand_simp_list):\n",
    "    s = s.replace('“',\" \")\n",
    "    s = s.replace('”',' ')\n",
    "    s = s.replace('‘',' ')\n",
    "    s = s.replace('’',' ')\n",
    "    s = s.strip()\n",
    "    dataframe_samp.loc[i] = pd.Series({'sent':s[:-1],'type':0})\n",
    "dataframe_samp = dataframe_samp.drop_duplicates(\"sent\").reset_index(drop=True)"
   ]
  },
  {
   "cell_type": "code",
   "execution_count": 82,
   "metadata": {},
   "outputs": [
    {
     "data": {
      "text/plain": [
       "2978"
      ]
     },
     "execution_count": 82,
     "metadata": {},
     "output_type": "execute_result"
    }
   ],
   "source": [
    "len(dataframe_samp)"
   ]
  },
  {
   "cell_type": "code",
   "execution_count": 89,
   "metadata": {},
   "outputs": [],
   "source": [
    "train_dataframe = pd.DataFrame(columns=[\"sent\",\"type\"])\n",
    "train_dataframe = train_dataframe.append(dataframe_questions).copy()\n",
    "train_dataframe = train_dataframe.append(dataframe_samp.iloc[:len(dataframe_questions),:]).copy()\n",
    "train_dataframe.reset_index(drop=True,inplace=True)\n",
    "train_dataframe.sample(frac=1).reset_index(drop=True).to_csv(\"interrogative_type_datset.csv\")"
   ]
  },
  {
   "cell_type": "code",
   "execution_count": null,
   "metadata": {},
   "outputs": [],
   "source": []
  }
 ],
 "metadata": {
  "kernelspec": {
   "display_name": "Python 3",
   "language": "python",
   "name": "python3"
  },
  "language_info": {
   "codemirror_mode": {
    "name": "ipython",
    "version": 3
   },
   "file_extension": ".py",
   "mimetype": "text/x-python",
   "name": "python",
   "nbconvert_exporter": "python",
   "pygments_lexer": "ipython3",
   "version": "3.7.3"
  }
 },
 "nbformat": 4,
 "nbformat_minor": 2
}
