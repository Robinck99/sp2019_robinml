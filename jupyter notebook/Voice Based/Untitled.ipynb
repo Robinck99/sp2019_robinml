{
 "cells": [
  {
   "cell_type": "code",
   "execution_count": 4,
   "metadata": {},
   "outputs": [],
   "source": [
    "import tkinter as tk\n",
    "import threading\n",
    "import time\n",
    "\n",
    "window = tk.Tk()\n",
    "\n",
    "w = 1440\n",
    "h = 800\n",
    "\n",
    "stop_anim = False\n",
    "\n",
    "def thread_play_anim(c, canvas):\n",
    "    count = 0\n",
    "    outside = True\n",
    "    while True:\n",
    "        canvas.coords(c, w/2 - 50 - count, h - 150 - count ,w/2 + 50 + count, h - 50 + count)\n",
    "        time.sleep(0.1)\n",
    "        count += 5\n",
    "        if count > 100 : count = 0\n",
    "        if stop_anim : \n",
    "            count = 0\n",
    "            canvas.coords(c, w/2 - 50 - count, h - 150 - count ,w/2 + 50 + count, h - 50 + count)\n",
    "            break\n",
    "record = False\n",
    "def record_audio(event=None) :\n",
    "    global stop_anim, record\n",
    "    if record :\n",
    "        stop_anim = False\n",
    "        play_anim_record_btn()\n",
    "        record = False\n",
    "        canvas_parent.itemconfig(c, fill=\"#1A1A1D\")\n",
    "    else :\n",
    "        stop_anim = True\n",
    "        record = True\n",
    "        canvas_parent.itemconfig(c, fill=\"#C3073F\")\n",
    "    \n",
    "def play_anim_record_btn():\n",
    "    c2 = canvas_parent.create_oval(w/2 - 50  , h - 150 ,w/2 + 50, h - 50, fill=\"\", outline=\"#C3073F\")\n",
    "    thread_1 = threading.Thread(target=thread_play_anim, args = (c2, canvas_parent))\n",
    "    thread_1.start()\n",
    "    \n",
    "def create_rounded_rect(canvas, x1, y1, x2, y2, **kwargs ) :\n",
    "    h = y2 - y1\n",
    "    canvas.create_oval( x1, y1, x1+h, y1+h, outline=\"\", **kwargs )\n",
    "    canvas.create_line( x1+h/2, y1 + h/2, x2-h/2, y1 + h/2, width=h, **kwargs)\n",
    "    canvas.create_oval( x2 - h, y2 - h, x2, y2, outline=\"\", **kwargs )\n",
    "\n",
    "canvas_parent = tk.Canvas(window, width=w, height=h, bg=\"#1A1A1D\")\n",
    "e = tk.Entry(canvas_parent)\n",
    "c = canvas_parent.create_oval(w/2 - 50  , h - 150 ,w/2 + 50, h - 50, fill=\"#C3073F\", outline=\"\")\n",
    "canvas_parent.tag_bind(c,'<Button-1>', record_audio)\n",
    "\n",
    "canvas_parent.pack()\n",
    "tk.mainloop()"
   ]
  },
  {
   "cell_type": "code",
   "execution_count": null,
   "metadata": {},
   "outputs": [],
   "source": []
  }
 ],
 "metadata": {
  "kernelspec": {
   "display_name": "Python 3",
   "language": "python",
   "name": "python3"
  },
  "language_info": {
   "codemirror_mode": {
    "name": "ipython",
    "version": 3
   },
   "file_extension": ".py",
   "mimetype": "text/x-python",
   "name": "python",
   "nbconvert_exporter": "python",
   "pygments_lexer": "ipython3",
   "version": "3.7.3"
  }
 },
 "nbformat": 4,
 "nbformat_minor": 2
}
