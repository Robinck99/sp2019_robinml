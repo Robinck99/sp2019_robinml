{
 "cells": [
  {
   "cell_type": "code",
   "execution_count": 4,
   "metadata": {},
   "outputs": [],
   "source": [
    "import os,pyttsx3 as neo_s, tkinter as tk, nltk, pandas as pd\n",
    "# neo_speak = neo_s.init()\n",
    "# neo_speak.setProperty('rate', 175)"
   ]
  },
  {
   "cell_type": "code",
   "execution_count": 3,
   "metadata": {},
   "outputs": [
    {
     "data": {
      "text/plain": [
       "['wakeup',\n",
       " 'neo',\n",
       " 'where',\n",
       " 'right',\n",
       " 'now',\n",
       " 'check',\n",
       " 'if',\n",
       " 'file',\n",
       " 'exsist',\n",
       " 'list',\n",
       " 'files',\n",
       " 'in',\n",
       " 'current',\n",
       " 'directory',\n",
       " 'open',\n",
       " 'write',\n",
       " 'mode',\n",
       " 'append',\n",
       " 'read',\n",
       " 'close']"
      ]
     },
     "execution_count": 3,
     "metadata": {},
     "output_type": "execute_result"
    }
   ],
   "source": [
    "def wakeup_neo() :\n",
    "    return 'All System Online. Ready to Roll.'\n",
    "\n",
    "def where_right_now() :\n",
    "    return \"In \" + os.getcwd()\n",
    "\n",
    "def check_if_file_exsist(file) :\n",
    "    return file in os.listdir('.')\n",
    "\n",
    "def list_files_in_current_dir() :\n",
    "    return os.listdir('.')\n",
    "\n",
    "def open_file_in_write_mode(file) :\n",
    "    return open(file, 'w+')\n",
    "\n",
    "def open_file_in_append_mode(file) :\n",
    "    return open(file, 'a+')\n",
    "\n",
    "def open_file_in_read_mode(file) :\n",
    "    return open(file, 'r')\n",
    "\n",
    "def close_file(file) :\n",
    "    return file.close()\n",
    "\n",
    "function_corpus = {'wakeup neo': wakeup_neo,\n",
    "                   'where right now' : where_right_now,\n",
    "                   'check if file exsist': check_if_file_exsist,\n",
    "                   'list files in current directory': list_files_in_current_dir,\n",
    "                   'open file in write mode': open_file_in_write_mode,\n",
    "                   'open file in append mode': open_file_in_append_mode,\n",
    "                   'open file in read mode': open_file_in_read_mode,\n",
    "                   'close file': close_file}\n",
    "\n",
    "required_corpus = []\n",
    "for w in function_corpus.keys():\n",
    "    stri = w.split()\n",
    "    for st in stri:\n",
    "        if st not in required_corpus:\n",
    "            required_corpus.append(st)\n",
    "            \n",
    "required_corpus\n",
    "\n"
   ]
  },
  {
   "cell_type": "code",
   "execution_count": 4,
   "metadata": {},
   "outputs": [
    {
     "data": {
      "text/html": [
       "<div>\n",
       "<style scoped>\n",
       "    .dataframe tbody tr th:only-of-type {\n",
       "        vertical-align: middle;\n",
       "    }\n",
       "\n",
       "    .dataframe tbody tr th {\n",
       "        vertical-align: top;\n",
       "    }\n",
       "\n",
       "    .dataframe thead th {\n",
       "        text-align: right;\n",
       "    }\n",
       "</style>\n",
       "<table border=\"1\" class=\"dataframe\">\n",
       "  <thead>\n",
       "    <tr style=\"text-align: right;\">\n",
       "      <th></th>\n",
       "      <th>index</th>\n",
       "      <th>function_name</th>\n",
       "      <th>args_no</th>\n",
       "      <th>f_type</th>\n",
       "    </tr>\n",
       "  </thead>\n",
       "  <tbody>\n",
       "    <tr>\n",
       "      <th>0</th>\n",
       "      <td>0x0</td>\n",
       "      <td>wakeup neo</td>\n",
       "      <td>0</td>\n",
       "      <td>0</td>\n",
       "    </tr>\n",
       "    <tr>\n",
       "      <th>0</th>\n",
       "      <td>0x1</td>\n",
       "      <td>where right now</td>\n",
       "      <td>0</td>\n",
       "      <td>0</td>\n",
       "    </tr>\n",
       "    <tr>\n",
       "      <th>0</th>\n",
       "      <td>0x2</td>\n",
       "      <td>check if file exsist</td>\n",
       "      <td>0</td>\n",
       "      <td>0</td>\n",
       "    </tr>\n",
       "    <tr>\n",
       "      <th>0</th>\n",
       "      <td>0x3</td>\n",
       "      <td>list files in current directory</td>\n",
       "      <td>0</td>\n",
       "      <td>0</td>\n",
       "    </tr>\n",
       "    <tr>\n",
       "      <th>0</th>\n",
       "      <td>0x4</td>\n",
       "      <td>open file in write mode</td>\n",
       "      <td>0</td>\n",
       "      <td>0</td>\n",
       "    </tr>\n",
       "    <tr>\n",
       "      <th>0</th>\n",
       "      <td>0x5</td>\n",
       "      <td>open file in append mode</td>\n",
       "      <td>0</td>\n",
       "      <td>0</td>\n",
       "    </tr>\n",
       "    <tr>\n",
       "      <th>0</th>\n",
       "      <td>0x6</td>\n",
       "      <td>open file in read mode</td>\n",
       "      <td>0</td>\n",
       "      <td>0</td>\n",
       "    </tr>\n",
       "    <tr>\n",
       "      <th>0</th>\n",
       "      <td>0x7</td>\n",
       "      <td>close file</td>\n",
       "      <td>0</td>\n",
       "      <td>0</td>\n",
       "    </tr>\n",
       "  </tbody>\n",
       "</table>\n",
       "</div>"
      ],
      "text/plain": [
       "  index                    function_name args_no f_type\n",
       "0   0x0                       wakeup neo       0      0\n",
       "0   0x1                  where right now       0      0\n",
       "0   0x2             check if file exsist       0      0\n",
       "0   0x3  list files in current directory       0      0\n",
       "0   0x4          open file in write mode       0      0\n",
       "0   0x5         open file in append mode       0      0\n",
       "0   0x6           open file in read mode       0      0\n",
       "0   0x7                       close file       0      0"
      ]
     },
     "execution_count": 4,
     "metadata": {},
     "output_type": "execute_result"
    }
   ],
   "source": [
    "functional_db = pd.DataFrame(columns=['index', 'function_name', 'args_no', 'f_type'])\n",
    "functional_db\n",
    "\n",
    "for i,val in enumerate(function_corpus.keys()):\n",
    "    i = hex(i)\n",
    "    args = 0 \n",
    "    f_type = 0\n",
    "    d = pd.DataFrame({'index':[i],'function_name':[str(val)],'args_no':[args],'f_type':[f_type]})\n",
    "    functional_db = functional_db.append(d)\n",
    "    \n",
    "functional_db"
   ]
  },
  {
   "cell_type": "code",
   "execution_count": 4,
   "metadata": {},
   "outputs": [
    {
     "name": "stdout",
     "output_type": "stream",
     "text": [
      "All System Online. Ready to Roll.\n"
     ]
    }
   ],
   "source": [
    "window = tk.Tk()\n",
    "\n",
    "def call_command(event) :\n",
    "    action = event.widget.get().lower().strip()\n",
    "    if action in function_corpus.keys():\n",
    "            print(function_corpus[action]())\n",
    "    \n",
    "\n",
    "parent_canvas = tk.Canvas(window, width=1000, height=750)\n",
    "canvas_action = tk.Canvas(parent_canvas, width=250, height=50)\n",
    "\n",
    "action_txt = tk.Entry(canvas_action, width=25)\n",
    "action_txt.bind('<Return>', call_command)\n",
    "canvas_action.create_window((10,13), window=action_txt, anchor='nw')\n",
    "\n",
    "parent_canvas.create_window(730,680, anchor=tk.NW, window=canvas_action)\n",
    "parent_canvas.pack()\n",
    "tk.mainloop()"
   ]
  },
  {
   "cell_type": "code",
   "execution_count": 6,
   "metadata": {},
   "outputs": [],
   "source": [
    "# from nltk.corpus import stopwords\n",
    "from nltk.tokenize import word_tokenize\n",
    "\n",
    "# stop_words = stopwords.words('english')\n",
    "\n",
    "# for s_w in stop_words:\n",
    "#     if s_w in required_corpus:\n",
    "#         stop_words.remove(s_w)"
   ]
  },
  {
   "cell_type": "code",
   "execution_count": 7,
   "metadata": {},
   "outputs": [
    {
     "name": "stdout",
     "output_type": "stream",
     "text": [
      "Enter Text to process : where are u right now\n",
      "where are u right now\n"
     ]
    }
   ],
   "source": [
    "string = input('Enter Text to process : ')\n",
    "print(string)\n",
    "\n",
    "word_tokens = word_tokenize(string)\n"
   ]
  },
  {
   "cell_type": "code",
   "execution_count": 1,
   "metadata": {},
   "outputs": [],
   "source": [
    "from nltk.corpus import wordnet as wordnet"
   ]
  },
  {
   "cell_type": "code",
   "execution_count": 3,
   "metadata": {
    "scrolled": true
   },
   "outputs": [],
   "source": [
    "syn = wordnet.synsets(\"\")\n",
    "\n",
    "for i in range(len(syn)):\n",
    "    print(syn[i])"
   ]
  },
  {
   "cell_type": "code",
   "execution_count": 13,
   "metadata": {},
   "outputs": [
    {
     "name": "stdout",
     "output_type": "stream",
     "text": [
      "showing info https://raw.githubusercontent.com/nltk/nltk_data/gh-pages/index.xml\n"
     ]
    },
    {
     "data": {
      "text/plain": [
       "True"
      ]
     },
     "execution_count": 13,
     "metadata": {},
     "output_type": "execute_result"
    }
   ],
   "source": [
    "# nltk.download()"
   ]
  },
  {
   "cell_type": "code",
   "execution_count": null,
   "metadata": {},
   "outputs": [],
   "source": []
  }
 ],
 "metadata": {
  "kernelspec": {
   "display_name": "Python 3",
   "language": "python",
   "name": "python3"
  },
  "language_info": {
   "codemirror_mode": {
    "name": "ipython",
    "version": 3
   },
   "file_extension": ".py",
   "mimetype": "text/x-python",
   "name": "python",
   "nbconvert_exporter": "python",
   "pygments_lexer": "ipython3",
   "version": "3.7.3"
  }
 },
 "nbformat": 4,
 "nbformat_minor": 2
}
