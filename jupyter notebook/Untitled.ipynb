{
 "cells": [
  {
   "cell_type": "code",
   "execution_count": 1,
   "metadata": {},
   "outputs": [
    {
     "name": "stdout",
     "output_type": "stream",
     "text": [
      "<class 'dlib.rectangle'> [(491, 206) (812, 527)]\n",
      "<class 'dlib.rectangle'> [(563, 242) (786, 464)]\n",
      "<class 'dlib.rectangle'> [(489, 242) (712, 464)]\n",
      "<class 'dlib.rectangle'> [(489, 266) (712, 489)]\n",
      "<class 'dlib.rectangle'> [(390, 242) (613, 464)]\n",
      "<class 'dlib.rectangle'> [(390, 242) (613, 464)]\n",
      "<class 'dlib.rectangle'> [(390, 242) (613, 464)]\n",
      "<class 'dlib.rectangle'> [(390, 242) (613, 464)]\n",
      "<class 'dlib.rectangle'> [(390, 242) (613, 464)]\n",
      "<class 'dlib.rectangle'> [(379, 231) (646, 498)]\n",
      "<class 'dlib.rectangle'> [(379, 231) (646, 498)]\n",
      "<class 'dlib.rectangle'> [(390, 242) (613, 464)]\n",
      "<class 'dlib.rectangle'> [(513, 242) (736, 464)]\n",
      "<class 'dlib.rectangle'> [(513, 242) (736, 464)]\n",
      "<class 'dlib.rectangle'> [(513, 242) (736, 464)]\n",
      "<class 'dlib.rectangle'> [(513, 242) (736, 464)]\n",
      "<class 'dlib.rectangle'> [(513, 242) (736, 464)]\n",
      "<class 'dlib.rectangle'> [(513, 242) (736, 464)]\n",
      "<class 'dlib.rectangle'> [(464, 266) (687, 489)]\n",
      "<class 'dlib.rectangle'> [(464, 266) (687, 489)]\n",
      "<class 'dlib.rectangle'> [(464, 266) (687, 489)]\n",
      "<class 'dlib.rectangle'> [(489, 266) (712, 489)]\n",
      "<class 'dlib.rectangle'> [(557, 201) (825, 468)]\n",
      "<class 'dlib.rectangle'> [(504, 162) (889, 547)]\n",
      "<class 'dlib.rectangle'> [(526, 206) (847, 527)]\n",
      "<class 'dlib.rectangle'> [(491, 206) (812, 527)]\n",
      "<class 'dlib.rectangle'> [(491, 206) (812, 527)]\n",
      "<class 'dlib.rectangle'> [(491, 206) (812, 527)]\n",
      "<class 'dlib.rectangle'> [(461, 204) (846, 590)]\n",
      "<class 'dlib.rectangle'> [(461, 204) (846, 590)]\n",
      "<class 'dlib.rectangle'> [(461, 204) (846, 590)]\n",
      "<class 'dlib.rectangle'> [(461, 204) (846, 590)]\n",
      "<class 'dlib.rectangle'> [(461, 204) (846, 590)]\n",
      "<class 'dlib.rectangle'> [(461, 204) (846, 590)]\n",
      "<class 'dlib.rectangle'> [(461, 204) (846, 590)]\n",
      "<class 'dlib.rectangle'> [(491, 206) (812, 527)]\n"
     ]
    }
   ],
   "source": [
    "import cv2 as cv\n",
    "import numpy as np\n",
    "import dlib\n",
    "\n",
    "def shape_to_np(shape, dtype=\"int\"):\n",
    "    # initialize the list of (x, y)-coordinates\n",
    "    coords = np.zeros((68, 2), dtype=dtype)\n",
    " \n",
    "    # loop over the 68 facial landmarks and convert them\n",
    "    # to a 2-tuple of (x, y)-coordinates\n",
    "    for i in range(0, 68):\n",
    "        coords[i] = (shape.part(i).x, shape.part(i).y)\n",
    " \n",
    "    # return the list of (x, y)-coordinates\n",
    "    return coords\n",
    "\n",
    "\n",
    "cam = cv.VideoCapture(0)\n",
    "\n",
    "detector = dlib.get_frontal_face_detector()\n",
    "predictor = dlib.shape_predictor('shape_predictor.dat')\n",
    "\n",
    "while True:\n",
    "    _, frame = cam.read()\n",
    "    gray_frame = cv.cvtColor(frame, cv.COLOR_BGR2GRAY)\n",
    "\n",
    "    \n",
    "    rects = detector(gray_frame,1)\n",
    "    \n",
    "    for (i,rect) in enumerate(rects) :\n",
    "        \n",
    "        shape = predictor(gray_frame, rect)\n",
    "        print(type(rect), rect)\n",
    "        shape = shape_to_np(shape)\n",
    "                \n",
    "        for (x, y) in shape:\n",
    "            cv.circle(frame, (x, y), 1, (0, 0, 255), -1)\n",
    "        \n",
    "    \n",
    "    cv.imshow(\"frame\", frame)\n",
    "    if cv.waitKey(1) & 0xFF == ord(\"q\") :\n",
    "        break\n",
    "cam.release()\n",
    "cv.destroyAllWindows()"
   ]
  },
  {
   "cell_type": "code",
   "execution_count": null,
   "metadata": {},
   "outputs": [],
   "source": []
  }
 ],
 "metadata": {
  "kernelspec": {
   "display_name": "Python 3",
   "language": "python",
   "name": "python3"
  },
  "language_info": {
   "codemirror_mode": {
    "name": "ipython",
    "version": 3
   },
   "file_extension": ".py",
   "mimetype": "text/x-python",
   "name": "python",
   "nbconvert_exporter": "python",
   "pygments_lexer": "ipython3",
   "version": "3.7.3"
  }
 },
 "nbformat": 4,
 "nbformat_minor": 2
}
