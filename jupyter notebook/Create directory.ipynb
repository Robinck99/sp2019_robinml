{
 "cells": [
  {
   "cell_type": "code",
   "execution_count": 23,
   "metadata": {},
   "outputs": [
    {
     "name": "stdout",
     "output_type": "stream",
     "text": [
      "/Users/jashan-ck/Downloads/GIT/Summer Project/jupyter notebook\n",
      "present\n"
     ]
    }
   ],
   "source": [
    "def \n",
    "\n",
    "import os\n",
    "\n",
    "thisdir = os.getcwd()\n",
    "# dir = []\n",
    "# for r,d,f in os.walk(thisdir) :\n",
    "#     dir = d\n",
    "#     break\n",
    "# print(dir)\n",
    "# if 'image_assets' in dir :\n",
    "\n",
    "# else :\n",
    "#     os.mkdir()\n",
    "print(thisdir)\n",
    "check_path = thisdir + '/image_assets'\n",
    "if not os.path.exists(check_path) :\n",
    "    print(\"Face Directory Absent. Recreating Folder\")\n",
    "    os.mkdir(check_path)\n",
    "else :\n",
    "    print(\"Face Directory Present.\")\n"
   ]
  },
  {
   "cell_type": "code",
   "execution_count": null,
   "metadata": {},
   "outputs": [],
   "source": []
  }
 ],
 "metadata": {
  "kernelspec": {
   "display_name": "Python 3",
   "language": "python",
   "name": "python3"
  },
  "language_info": {
   "codemirror_mode": {
    "name": "ipython",
    "version": 3
   },
   "file_extension": ".py",
   "mimetype": "text/x-python",
   "name": "python",
   "nbconvert_exporter": "python",
   "pygments_lexer": "ipython3",
   "version": "3.7.3"
  }
 },
 "nbformat": 4,
 "nbformat_minor": 2
}
