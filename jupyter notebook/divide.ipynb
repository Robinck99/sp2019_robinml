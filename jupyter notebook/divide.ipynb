{
 "cells": [
  {
   "cell_type": "code",
   "execution_count": 20,
   "metadata": {},
   "outputs": [
    {
     "name": "stdout",
     "output_type": "stream",
     "text": [
      "<class 'numpy.ndarray'>\n",
      "(720, 1280, 3)\n",
      "640\n",
      "<class 'numpy.ndarray'>\n",
      "(720, 1280, 3)\n",
      "640\n",
      "<class 'numpy.ndarray'>\n",
      "(720, 1280, 3)\n",
      "640\n",
      "<class 'numpy.ndarray'>\n",
      "(720, 1280, 3)\n",
      "640\n",
      "<class 'numpy.ndarray'>\n",
      "(720, 1280, 3)\n",
      "640\n"
     ]
    }
   ],
   "source": [
    "# import cv2 as cv\n",
    "# import numpy as np\n",
    "\n",
    "# cam = cv.VideoCapture(0)\n",
    "\n",
    "# for x in range(5) :\n",
    "    \n",
    "#     _,frame = cam.read()\n",
    "#     print(type(frame))\n",
    "#     print(frame.shape) \n",
    "#     f1 = np.split(frame, 640, axis = 1)\n",
    "#     print(len(f1))\n",
    "    \n",
    "# cam.release()\n",
    "# cv.destroyAllWindows()"
   ]
  },
  {
   "cell_type": "code",
   "execution_count": 36,
   "metadata": {},
   "outputs": [
    {
     "name": "stdout",
     "output_type": "stream",
     "text": [
      "5\n",
      "[array([[1, 2, 3],\n",
      "       [4, 5, 6],\n",
      "       [7, 8, 9]])]\n"
     ]
    }
   ],
   "source": [
    "import numpy as np\n",
    "\n",
    "f1 = np.array([[1,2,3],[4,5,6],[7,8,9]])\n",
    "print(f1[1,1])\n",
    "f = np.split(f1,1,1)\n",
    "print(f)"
   ]
  },
  {
   "cell_type": "code",
   "execution_count": null,
   "metadata": {},
   "outputs": [],
   "source": []
  }
 ],
 "metadata": {
  "kernelspec": {
   "display_name": "Python 3",
   "language": "python",
   "name": "python3"
  },
  "language_info": {
   "codemirror_mode": {
    "name": "ipython",
    "version": 3
   },
   "file_extension": ".py",
   "mimetype": "text/x-python",
   "name": "python",
   "nbconvert_exporter": "python",
   "pygments_lexer": "ipython3",
   "version": "3.7.3"
  }
 },
 "nbformat": 4,
 "nbformat_minor": 2
}
